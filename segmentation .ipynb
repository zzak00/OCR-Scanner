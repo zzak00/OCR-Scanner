{
 "cells": [
  {
   "cell_type": "code",
   "execution_count": 9,
   "metadata": {},
   "outputs": [],
   "source": [
    "def correct(cont,img):\n",
    "    #perspective correction\n",
    "    lig=cont.shape[0]\n",
    "    cont=cont.reshape(lig,2)\n",
    "    rect = np.zeros((4,2), dtype=\"float32\")    \n",
    "    #estimation du quadrilatère\n",
    "    s = np.sum(cont, axis=1)\n",
    "    rect[0] = cont[np.argmin(s)]\n",
    "    rect[2] = cont[np.argmax(s)]\n",
    "    \n",
    "    diff = np.diff(cont, axis=1)\n",
    "    rect[1] = cont[np.argmin(diff)]\n",
    "    rect[3] = cont[np.argmax(diff)]\n",
    "    \n",
    "    (A, B, C, D) = rect\n",
    "    \n",
    "    #max(hauteur,largeur) du quadrilatère \n",
    "    widthA = np.sqrt((A[0] - B[0])**2 + (A[1] - B[1])**2 )\n",
    "    widthB = np.sqrt((D[0] - C[0])**2 + (D[1] - C[1])**2 )\n",
    "    maxWidth = max(int(widthA), int(widthB))\n",
    "\n",
    "    heightA = np.sqrt((A[0] - D[0])**2 + (A[1] - D[1])**2 )\n",
    "    heightB = np.sqrt((B[0] - C[0])**2 + (B[1] - C[1])**2 )\n",
    "    maxHeight = max(int(heightA), int(heightB))\n",
    "    \n",
    "    #quadrilatère de reference\n",
    "    dst = np.array([\n",
    "    [0,0],\n",
    "    [maxWidth-1, 0],\n",
    "    [maxWidth-1, maxHeight-1],\n",
    "    [0, maxHeight-1]], dtype=\"float32\")\n",
    "    \n",
    "    #matrice de transformation(quad d'origine --> quad de reference)\n",
    "    BansformMaBix = cv2.getPerspectiveTransform(rect, dst)\n",
    "    #transformation affine\n",
    "    # scan = cv2.warpPerspective(img.copy(), BansformMaBix, (maxWidth, maxHeight),borderMode=cv2.BORDER_REPLICATE)\n",
    "    \n",
    "    return cv2.warpPerspective(img.copy(), BansformMaBix, (maxWidth, maxHeight),borderMode=cv2.BORDER_REPLICATE)"
   ]
  },
  {
   "cell_type": "code",
   "execution_count": 10,
   "metadata": {},
   "outputs": [],
   "source": [
    "def denoise(img):\n",
    "    blur = cv2.GaussianBlur(img.copy(),(5,5),0)\n",
    "    return blur\n",
    "\n",
    "def canny(img):\n",
    "    edged = cv2.Canny(img.copy(), 75, 200)\n",
    "    return edged\n",
    "\n",
    "def detect_ctrs(img):\n",
    "    \n",
    "    blur=denoise(img.copy())\n",
    "    blur=denoise(blur)\n",
    "    ed1=canny(blur)\n",
    "    ed1=canny(ed1)\n",
    "    \n",
    "    return ed1"
   ]
  },
  {
   "cell_type": "code",
   "execution_count": 161,
   "metadata": {},
   "outputs": [],
   "source": [
    "import cv2\n",
    "import numpy as np\n",
    "import matplotlib.pyplot as plt"
   ]
  },
  {
   "cell_type": "code",
   "execution_count": 258,
   "metadata": {},
   "outputs": [],
   "source": [
    "def text_only(img):\n",
    "    #detect edges \n",
    "    ed=detect_ctrs(img)\n",
    "    pts = np.argwhere(ed>0)\n",
    "    #crop the text from the starting point (top-left) to end point (bottom-right)\n",
    "    y1,x1 = pts.min(axis=0)\n",
    "    y2,x2 = pts.max(axis=0)\n",
    "    cropped = img.copy()[y1:y2, x1:x2]    \n",
    "    return cropped\n",
    "\n",
    "def pretseg(c):\n",
    "    # get the contour as arg\n",
    "    # In some cases, we can get in the same contour many lines of text(case of lines inclined)\n",
    "    ## Extract all sublines\n",
    "    kernel = np.ones((5,100), np.uint8)\n",
    "    p = cv2.dilate(255-c, kernel, iterations=1)\n",
    "    contours, hierarchy = cv2.findContours(p, cv2.RETR_EXTERNAL, cv2.CHAIN_APPROX_NONE)\n",
    "    ## find there areas and get the max one (max area==main line)\n",
    "    area=[]\n",
    "    im=c.copy()\n",
    "    for cnt in contours: \n",
    "        rect = cv2.minAreaRect(cnt)\n",
    "        area.append(rect[1][0]*rect[1][1])\n",
    "        box = cv2.boxPoints(rect)\n",
    "        box = np.int0(box)\n",
    "    m=max(enumerate(area),key=lambda x: x[1])[0]\n",
    "    ## correct the perspective of the line\n",
    "    rect = cv2.minAreaRect(contours[m])\n",
    "    box = cv2.boxPoints(rect)\n",
    "    box = np.int0(box)\n",
    "    ## rect[2]: angle of inclination\n",
    "    if rect[2]==0:\n",
    "        return c\n",
    "    else:\n",
    "        return correct(box,c)      \n",
    "\n",
    "def findlimit(bin1):\n",
    "    bin1=bin1/255\n",
    "    #finding start and stop of line by transposing the image and starting research from top to bottom\n",
    "    bin1=bin1.T\n",
    "    l,c=bin1.shape\n",
    "    b=np.ones([l,c])\n",
    "    h=np.sum(bin1,axis=1)\n",
    "    h=c-h\n",
    "    start=[]\n",
    "    stop=[]\n",
    "    for i in range(l-1):\n",
    "        if h[i]==0 and h[i+1]!=0 :\n",
    "            start.append(i+1)\n",
    "        else:\n",
    "            if h[i]!=0 and h[i+1]==0 :\n",
    "                stop.append(i+2)\n",
    "    return start,stop\n",
    "\n",
    "\n",
    "def fcat(line,s,st):\n",
    "    esp=0\n",
    "    k=1\n",
    "    #avg of alphabet width in a line --> order to detect existence of space\n",
    "    space=[]\n",
    "    for i in range(len(s)-1):\n",
    "        space.append(s[i+1]-st[i])\n",
    "    if len(space)==0:\n",
    "        return 0\n",
    "    else:\n",
    "        m=sum(space)/len(space)\n",
    "       \n",
    "    for i in range(len(s)-1):\n",
    "        cropped = line[:,s[i]:st[i]]\n",
    "        if (np.where(cropped==0)[0].size/cropped.size)>0.08 and 4<cropped.shape[1]<150 :\n",
    "            cv2.imwrite('line'+ \"% s\" % i+' caract'+\"% s\" % k+'.jpg',cropped) \n",
    "            k=k+1 \n",
    "        if s[i+1]-st[i]>m+8 :\n",
    "            esp+=1\n",
    "            k=k+1\n",
    "    cropped = line[:,s[-1]:st[-1]]\n",
    "    cv2.imwrite('line'+ \"% s\" % i+' caract'+\"% s\" % k+'.jpg',cropped) \n",
    "    return print('# spaces '+\"% s\" % esp)"
   ]
  },
  {
   "cell_type": "code",
   "execution_count": 270,
   "metadata": {},
   "outputs": [],
   "source": [
    "def text_split(thresh):\n",
    "    im=thresh.copy()\n",
    "    #dilation\n",
    "    kernel = np.ones((5,100), np.uint8)\n",
    "    img_dilation = cv2.dilate(255-thresh, kernel, iterations=1)\n",
    "    l,c=im.shape\n",
    "    #find contours\n",
    "    ctrs, hier = cv2.findContours(img_dilation.copy(), cv2.RETR_EXTERNAL, cv2.CHAIN_APPROX_SIMPLE)\n",
    "    #sort contours\n",
    "    #contours = sorted(ctrs, key=lambda ctr: cv2.boundingRect(ctr)[0])\n",
    "    contours=np.flip(ctrs,axis=0)\n",
    "    mask = np.zeros(im.shape, dtype=np.uint8)\n",
    "    for idx in range(len(contours)):\n",
    "        x, y, w, h = cv2.boundingRect(contours[idx])\n",
    "        # Getting ROI\n",
    "        roi = im[y:y+h, x:x+w]\n",
    "        cv2.drawContours(mask, contours, idx,255, -1)\n",
    "        #ratio of black pixels in surface (w*h)\n",
    "        r = float(cv2.countNonZero(mask[y:y+h, x:x+w])) / (w * h)\n",
    "        if r > 0.3 and w > 200 and h > 20 and h<0.4*l :\n",
    "            p=pretseg(roi)\n",
    "            a,b=findlimit(p)\n",
    "            ########################################## fcatR ou fcat\n",
    "            txt=fcat(p,a,b) \n",
    "    return txt"
   ]
  },
  {
   "cell_type": "code",
   "execution_count": 268,
   "metadata": {},
   "outputs": [],
   "source": [
    "img = cv2.imread('binImage.jpg',0)"
   ]
  },
  {
   "cell_type": "code",
   "execution_count": 269,
   "metadata": {},
   "outputs": [
    {
     "name": "stdout",
     "output_type": "stream",
     "text": [
      "[] [1920]\n",
      "[49, 137, 224, 336, 440, 624, 664, 768, 856, 928] [130, 218, 322, 410, 610, 658, 738, 850, 922, 1097]\n",
      "# spaces 2\n"
     ]
    }
   ],
   "source": [
    "text_split(img)"
   ]
  },
  {
   "cell_type": "code",
   "execution_count": 241,
   "metadata": {},
   "outputs": [],
   "source": [
    "im=cv2.threshold(img, 254, 255, cv2.THRESH_BINARY)[1]\n"
   ]
  },
  {
   "cell_type": "code",
   "execution_count": 215,
   "metadata": {},
   "outputs": [],
   "source": [
    "kernel = np.ones((5,5), np.uint8)\n",
    "img_dilation = cv2.erode(im, kernel, iterations=1)"
   ]
  },
  {
   "cell_type": "code",
   "execution_count": 242,
   "metadata": {},
   "outputs": [
    {
     "data": {
      "text/plain": [
       "<matplotlib.image.AxesImage at 0x7fd894abedc0>"
      ]
     },
     "execution_count": 242,
     "metadata": {},
     "output_type": "execute_result"
    },
    {
     "data": {
      "image/png": "[encoded data removed]",
      "text/plain": [
       "<Figure size 432x288 with 1 Axes>"
      ]
     },
     "metadata": {
      "needs_background": "light"
     },
     "output_type": "display_data"
    }
   ],
   "source": [
    "plt.imshow(im,cmap='gray')"
   ]
  },
  {
   "cell_type": "code",
   "execution_count": null,
   "metadata": {},
   "outputs": [],
   "source": []
  }
 ],
 "metadata": {
  "kernelspec": {
   "display_name": "Python 3",
   "language": "python",
   "name": "python3"
  },
  "language_info": {
   "codemirror_mode": {
    "name": "ipython",
    "version": 3
   },
   "file_extension": ".py",
   "mimetype": "text/x-python",
   "name": "python",
   "nbconvert_exporter": "python",
   "pygments_lexer": "ipython3",
   "version": "3.8.5"
  }
 },
 "nbformat": 4,
 "nbformat_minor": 4
}
