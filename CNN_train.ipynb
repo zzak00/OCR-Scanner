{
  "nbformat": 4,
  "nbformat_minor": 0,
  "metadata": {
    "colab": {
      "name": "CNN_train.ipynb",
      "provenance": [],
      "collapsed_sections": []
    },
    "kernelspec": {
      "name": "python3",
      "display_name": "Python 3"
    }
  },
  "cells": [
    {
      "cell_type": "markdown",
      "metadata": {
        "id": "g3GivLDNCbB3",
        "colab_type": "text"
      },
      "source": [
        "importer les packages"
      ]
    },
    {
      "cell_type": "code",
      "metadata": {
        "id": "HVYF36v4qPeC",
        "colab_type": "code",
        "colab": {}
      },
      "source": [
        "import tensorflow as tf\n",
        "from tensorflow.keras import datasets, layers, models\n",
        "import matplotlib.pyplot as plt\n",
        "import numpy as np\n",
        "import matplotlib.pyplot as plt\n",
        "import pandas as pd\n",
        "\n",
        "from sklearn.model_selection import train_test_split\n"
      ],
      "execution_count": 1,
      "outputs": []
    },
    {
      "cell_type": "markdown",
      "metadata": {
        "id": "i0G-vMzJCjJp",
        "colab_type": "text"
      },
      "source": [
        "se Connecter au Drive"
      ]
    },
    {
      "cell_type": "code",
      "metadata": {
        "id": "fnp96bCYquWF",
        "colab_type": "code",
        "colab": {
          "base_uri": "https://localhost:8080/",
          "height": 129
        },
        "outputId": "12cc2442-c6bb-465a-85dd-ecc4302939c5"
      },
      "source": [
        "\n",
        "from google.colab import drive\n",
        "\n",
        "drive.mount('/content/drive/')"
      ],
      "execution_count": 3,
      "outputs": [
        {
          "output_type": "stream",
          "text": [
            "Go to this URL in a browser: https://accounts.google.com/o/oauth2/auth?client_id=947318989803-6bn6qk8qdgf4n4g3pfee6491hc0brc4i.apps.googleusercontent.com&redirect_uri=urn%3aietf%3awg%3aoauth%3a2.0%3aoob&response_type=code&scope=email%20https%3a%2f%2fwww.googleapis.com%2fauth%2fdocs.test%20https%3a%2f%2fwww.googleapis.com%2fauth%2fdrive%20https%3a%2f%2fwww.googleapis.com%2fauth%2fdrive.photos.readonly%20https%3a%2f%2fwww.googleapis.com%2fauth%2fpeopleapi.readonly\n",
            "\n",
            "Enter your authorization code:\n",
            "··········\n",
            "Mounted at /content/drive/\n"
          ],
          "name": "stdout"
        }
      ]
    },
    {
      "cell_type": "markdown",
      "metadata": {
        "id": "JqGMno6NCx_v",
        "colab_type": "text"
      },
      "source": [
        "le ficher de data"
      ]
    },
    {
      "cell_type": "code",
      "metadata": {
        "id": "KHBfWcv2qwol",
        "colab_type": "code",
        "colab": {}
      },
      "source": [
        "df=pd.read_csv('/content/drive/My Drive/hog(norm).csv')\n"
      ],
      "execution_count": null,
      "outputs": []
    },
    {
      "cell_type": "markdown",
      "metadata": {
        "id": "1CyXR7JVC463",
        "colab_type": "text"
      },
      "source": [
        "diviser le data en Label et data"
      ]
    },
    {
      "cell_type": "code",
      "metadata": {
        "id": "e7Ee-IywJTOP",
        "colab_type": "code",
        "colab": {}
      },
      "source": [
        "x=pd.DataFrame(df.iloc[:,:-1]).values\n",
        "y=pd.DataFrame(df.iloc[:,-1]).values\n",
        "\n"
      ],
      "execution_count": null,
      "outputs": []
    },
    {
      "cell_type": "markdown",
      "metadata": {
        "id": "ddDcPRxgDAKp",
        "colab_type": "text"
      },
      "source": [
        "diviser data et label en  80% train et 20% test"
      ]
    },
    {
      "cell_type": "code",
      "metadata": {
        "id": "pQgFFLf3q_Wr",
        "colab_type": "code",
        "colab": {}
      },
      "source": [
        "#train, validate, test = np.split(df.sample(frac=1), [int(.6*len(df)), int(.8*len(df))])\n",
        "x_train,x_test,y_train,y_test=train_test_split(x,y,test_size=0.2,random_state=42)\n"
      ],
      "execution_count": null,
      "outputs": []
    },
    {
      "cell_type": "markdown",
      "metadata": {
        "id": "9mS7TIuCDNG8",
        "colab_type": "text"
      },
      "source": [
        "reshape data vecteur de taille 2024 to matrice 45x45x1"
      ]
    },
    {
      "cell_type": "code",
      "metadata": {
        "id": "odP_oXOZreUd",
        "colab_type": "code",
        "colab": {}
      },
      "source": [
        "x_train2=x_train.reshape(x_train.shape[0],45,45,1)\n",
        "x_test2=x_test.reshape(x_test.shape[0],45,45,1)"
      ],
      "execution_count": null,
      "outputs": []
    },
    {
      "cell_type": "markdown",
      "metadata": {
        "id": "NtHsasX7D9rR",
        "colab_type": "text"
      },
      "source": [
        "creation de modele"
      ]
    },
    {
      "cell_type": "code",
      "metadata": {
        "id": "dMhqk5jwr_z2",
        "colab_type": "code",
        "colab": {}
      },
      "source": [
        "#creation de model\n",
        "model = models.Sequential()\n",
        "model.add(layers.Conv1D(8, (3, 3),padding='valid', activation='relu'))\n",
        "model.add(layers.MaxPooling1D((2, 2),strides=(1, 1)))\n",
        "model.add(layers.Conv1D(16, (3, 3),padding='valid', activation='relu'))\n",
        "model.add(layers.MaxPooling1D((2, 2),strides=(1, 1)))\n",
        "model.add(layers.Conv1D(32, (3, 3),padding='valid', activation='relu'))\n",
        "model.add(layers.MaxPooling1D((2, 2),strides=(1, 1)))\n",
        "model.add(layers.Flatten())\n",
        "model.add(layers.Dense(700, activation='relu'))\n",
        "model.add(layers.Dense(62))\n",
        "\n",
        "\n",
        "\n",
        "\n"
      ],
      "execution_count": null,
      "outputs": []
    },
    {
      "cell_type": "markdown",
      "metadata": {
        "id": "0zJfhkgSD6I5",
        "colab_type": "text"
      },
      "source": [
        "entreinement du modele"
      ]
    },
    {
      "cell_type": "code",
      "metadata": {
        "id": "zzLLAQ-nsny5",
        "colab_type": "code",
        "colab": {}
      },
      "source": [
        "\n",
        "model.compile(optimizer='adam',\n",
        "              loss=tf.keras.losses.SparseCategoricalCrossentropy(from_logits=True),\n",
        "              metrics=['accuracy'])\n",
        "history = model.fit(x_train, y_train, epochs=10, validation_data=(x_test, y_test))   #epche hya b7al iteration f mlp\n"
      ],
      "execution_count": null,
      "outputs": []
    },
    {
      "cell_type": "markdown",
      "metadata": {
        "id": "2P8y576JELq2",
        "colab_type": "text"
      },
      "source": [
        "save modele"
      ]
    },
    {
      "cell_type": "code",
      "metadata": {
        "id": "4ASw13w8Irs3",
        "colab_type": "code",
        "colab": {}
      },
      "source": [
        "model.save('/content/drive/My Drive/CNN3.h5')"
      ],
      "execution_count": null,
      "outputs": []
    },
    {
      "cell_type": "code",
      "metadata": {
        "id": "M8QYqmSvFB9f",
        "colab_type": "code",
        "colab": {}
      },
      "source": [
        ""
      ],
      "execution_count": null,
      "outputs": []
    }
  ]
}